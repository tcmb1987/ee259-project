{
  "nbformat": 4,
  "nbformat_minor": 0,
  "metadata": {
    "colab": {
      "provenance": [],
      "gpuType": "T4",
      "include_colab_link": true
    },
    "kernelspec": {
      "name": "python3",
      "display_name": "Python 3"
    },
    "language_info": {
      "name": "python"
    },
    "accelerator": "GPU"
  },
  "cells": [
    {
      "cell_type": "markdown",
      "metadata": {
        "id": "view-in-github",
        "colab_type": "text"
      },
      "source": [
        "<a href=\"https://colab.research.google.com/github/tcmb1987/ee259-project/blob/main/EE259_radarsimpy.ipynb\" target=\"_parent\"><img src=\"https://colab.research.google.com/assets/colab-badge.svg\" alt=\"Open In Colab\"/></a>"
      ]
    },
    {
      "cell_type": "markdown",
      "source": [
        "# EE 259 Project"
      ],
      "metadata": {
        "id": "c6oB-KIXeVYL"
      }
    },
    {
      "cell_type": "markdown",
      "source": [
        "## Setup GPU, Packages, and Imports"
      ],
      "metadata": {
        "id": "-Dx-22_PeeED"
      }
    },
    {
      "cell_type": "markdown",
      "source": [
        "### Enable GPU Acceleration\n",
        "\n",
        "To enable GPU acceleration select the following menu options: Runtime -> Change runtime type -> Hardware Accelerator -> GPU\n",
        "\n",
        "Then run snippet below. If the GPU is enabled, it will give the following output: '/device:GPU:0'"
      ],
      "metadata": {
        "id": "VE_BjvBMzCaD"
      }
    },
    {
      "cell_type": "code",
      "source": [
        "import tensorflow as tf\n",
        "tf.test.gpu_device_name()"
      ],
      "metadata": {
        "colab": {
          "base_uri": "https://localhost:8080/",
          "height": 36
        },
        "id": "Hp3QcjI_zMTR",
        "outputId": "3f214185-0e10-4ee4-f49d-007dda7dce20"
      },
      "execution_count": null,
      "outputs": [
        {
          "output_type": "execute_result",
          "data": {
            "text/plain": [
              "'/device:GPU:0'"
            ],
            "application/vnd.google.colaboratory.intrinsic+json": {
              "type": "string"
            }
          },
          "metadata": {},
          "execution_count": 1
        }
      ]
    },
    {
      "cell_type": "markdown",
      "source": [
        "### Setup Google Drive Mount and Packages to Correctly Run Radarsimpy\n"
      ],
      "metadata": {
        "id": "Zk9EiA8VzO4A"
      }
    },
    {
      "cell_type": "code",
      "execution_count": null,
      "metadata": {
        "colab": {
          "base_uri": "https://localhost:8080/"
        },
        "id": "zpYVvbAbJ9BB",
        "outputId": "7964ebc3-3c84-4378-91e6-54bcf2280312"
      },
      "outputs": [
        {
          "output_type": "stream",
          "name": "stdout",
          "text": [
            "Mounted at /content/drive\n"
          ]
        }
      ],
      "source": [
        "from google.colab import drive\n",
        "drive.mount(\"/content/drive\")"
      ]
    },
    {
      "cell_type": "markdown",
      "source": [
        "Create Ubuntu toolchain in order to run correct libstdc++6. Notice, after running the toolchain cell need to click below the prompt and hit 'Enter'."
      ],
      "metadata": {
        "id": "rYDsDCiNgF25"
      }
    },
    {
      "cell_type": "code",
      "source": [
        "!add-apt-repository ppa:ubuntu-toolchain-r/test"
      ],
      "metadata": {
        "id": "1lrWFlwueB24"
      },
      "execution_count": null,
      "outputs": []
    },
    {
      "cell_type": "markdown",
      "source": [
        "Update Ubuntu for running libstdc++6 and install it. Also, install Kaleido since it's what the tutorial uses for plotting."
      ],
      "metadata": {
        "id": "ukU5u9Z2z-S5"
      }
    },
    {
      "cell_type": "code",
      "source": [
        "!apt-get update\n",
        "!apt-get upgrade\n",
        "!apt-get install libstdc++6\n",
        "!pip install kaleido"
      ],
      "metadata": {
        "id": "BHu4y-UreE6B"
      },
      "execution_count": null,
      "outputs": []
    },
    {
      "cell_type": "markdown",
      "source": [
        "Lastly, import radarsimpy and test if successful by displaying version.\n",
        "\n",
        "Make sure path is correct, ensure the project folder is saved under 'MyDrive'."
      ],
      "metadata": {
        "id": "KTycVN10fr-z"
      }
    },
    {
      "cell_type": "code",
      "source": [
        "import sys\n",
        "FOLDERNAME = 'EE_259_Project' # Folder where simpy is being held in drive, e.g. 'EE_259_Project'\n",
        "sys.path.append('/content/drive/My Drive/{}'.format(FOLDERNAME))\n",
        "\n",
        "import radarsimpy\n",
        "radarsimpy.__version__"
      ],
      "metadata": {
        "id": "JYgKJ6pBMbuL",
        "colab": {
          "base_uri": "https://localhost:8080/",
          "height": 36
        },
        "outputId": "d1774790-bc2a-40ef-fea1-4263d4d1c3cd"
      },
      "execution_count": null,
      "outputs": [
        {
          "output_type": "execute_result",
          "data": {
            "text/plain": [
              "'11.1.0'"
            ],
            "application/vnd.google.colaboratory.intrinsic+json": {
              "type": "string"
            }
          },
          "metadata": {},
          "execution_count": 1
        }
      ]
    },
    {
      "cell_type": "markdown",
      "source": [
        "Confirm Python Version is 3.10, else RadarSimPy will not function."
      ],
      "metadata": {
        "id": "oMriHpgj0iHq"
      }
    },
    {
      "cell_type": "code",
      "source": [
        "!python --version"
      ],
      "metadata": {
        "colab": {
          "base_uri": "https://localhost:8080/"
        },
        "id": "fbBi_oYp0wr1",
        "outputId": "19f2a1de-8c00-4178-8a87-7735ff6af4e4"
      },
      "execution_count": null,
      "outputs": [
        {
          "output_type": "stream",
          "name": "stdout",
          "text": [
            "Python 3.10.12\n"
          ]
        }
      ]
    },
    {
      "cell_type": "markdown",
      "source": [
        "###Packages to Import\n",
        "Import other libraries and packages needed for the project\n",
        "If radarsimpy.simulator is not importing after running above, go to: Runtime -> Restart runtime. Then, run the 'import sys' and 'import radarsimpy' cells again."
      ],
      "metadata": {
        "id": "UNRTvzyQ1Bp_"
      }
    },
    {
      "cell_type": "code",
      "source": [
        "import numpy as np # Numpy for arrays and numerical processing\n",
        "from radarsimpy import Radar, Transmitter, Receiver # Radarsimpy Transceiver Model\n",
        "\n",
        "from radarsimpy.simulator import simpy # Python simulator engine\n",
        "from radarsimpy.simulator import simc # C++ simulator engine\n",
        "\n",
        "# Plotting imports\n",
        "import matplotlib\n",
        "import matplotlib.pyplot as plt\n",
        "import plotly.graph_objs as go\n",
        "from IPython.display import Image\n",
        "\n",
        "# Signal processing helper functions\n",
        "from scipy import signal\n",
        "import radarsimpy.processing as proc\n",
        "from scipy.signal import find_peaks\n",
        "from numpy.lib.function_base import average"
      ],
      "metadata": {
        "id": "vMQLjF691A7f"
      },
      "execution_count": null,
      "outputs": []
    },
    {
      "cell_type": "markdown",
      "source": [
        "##Project\n",
        "All project functions are run here."
      ],
      "metadata": {
        "id": "CHbmOMfS19AW"
      }
    },
    {
      "cell_type": "markdown",
      "source": [
        "###Build Radar\n",
        "\n",
        "Build initial radar according to parameters from Texas Instruments TIDEP-01012 cascaded MIMO radar [design guide](https://www.ti.com/lit/pdf/tiduen5) and according to the RadarSimPy TDM FMCW MIMO [tutorial](https://radarsimx.com/2019/04/07/tdm-mimo-fmcw-radar/). Initial conditions are set up for 9 TX antenna and 16 RX antennas. Facing front of board, lower-left corner is located at the origin with board facing in positive 'x' direction. Board dimensions are located in y-z plane. Using 77 GHz as frequency and 256 MHz chirp bandwidth. Also, option to initialize a board with random antenna placement."
      ],
      "metadata": {
        "id": "_1Ct1RkB2C18"
      }
    },
    {
      "cell_type": "markdown",
      "source": [
        "Define the radar parameters here."
      ],
      "metadata": {
        "id": "btnvbcr25SUw"
      }
    },
    {
      "cell_type": "code",
      "source": [
        "# TIDEP-01012 design parameters with 77 GHz frequency\n",
        "frequency = 77e9\n",
        "chirp_bandwidth = 256e6\n",
        "wavelength = 3e8 / frequency\n",
        "theta_fov = 140\n",
        "angular_res = 1.4\n",
        "N = int(theta_fov//angular_res)\n",
        "angle = np.linspace(-theta_fov/2, theta_fov/2, N)\n",
        "tx_power = 45\n",
        "pulses = 9\n",
        "num_tx_channels = 9\n",
        "num_rx_channels = 16\n",
        "cycle_t = 32e-6\n",
        "noise_level = 10\n",
        "num_total_channels = num_tx_channels + num_rx_channels\n",
        "\n",
        "# beam pattern definition (no changes from tutorial)\n",
        "pattern = 20 * np.log10(np.cos(angle / 180 * np.pi) + 0.01) + 6\n",
        "\n",
        "# define random antenna locations\n",
        "tx_antenna_locations = np.zeros((num_tx_channels, 2))\n",
        "rx_antenna_locations = np.zeros((num_rx_channels, 2))\n",
        "tx_antenna_locations[:,0] = np.random.rand(num_tx_channels)*40*wavelength\n",
        "tx_antenna_locations[:,1] = np.random.rand(num_tx_channels)*34*wavelength\n",
        "rx_antenna_locations[:,0] = np.random.rand(num_rx_channels)*40*wavelength\n",
        "rx_antenna_locations[:,1] = np.random.rand(num_rx_channels)*34*wavelength\n",
        "\n",
        "random_antenna_locations = np.concatenate((tx_antenna_locations, rx_antenna_locations), axis=0)\n",
        "\n",
        "# define initial antenna locations\n",
        "tx_antenna_locations[0,:] = np.array([30.5*wavelength, 11*wavelength])\n",
        "rx_antenna_locations[0,:] = np.array([7*wavelength, 30*wavelength])\n",
        "\n",
        "for i in range(1, num_tx_channels):\n",
        "    tx_antenna_locations[i,:] = np.array([tx_antenna_locations[i-1,0] - 2*wavelength, tx_antenna_locations[0,1]])\n",
        "for i in range(1, num_rx_channels):\n",
        "    if i == 6:\n",
        "        rx_antenna_locations[i,:] = np.array([rx_antenna_locations[i-1,0] + 4*wavelength, rx_antenna_locations[0,1]])\n",
        "    elif i == 9:\n",
        "        rx_antenna_locations[i,:] = np.array([rx_antenna_locations[i-1,0] + 16*wavelength, rx_antenna_locations[0,1]])\n",
        "    else:\n",
        "        rx_antenna_locations[i,:] = np.array([rx_antenna_locations[i-1,0] + 0.5*wavelength, rx_antenna_locations[0,1]])\n",
        "\n",
        "initial_antenna_locations = np.concatenate((tx_antenna_locations, rx_antenna_locations), axis=0)\n",
        "\n"
      ],
      "metadata": {
        "id": "nqng2wCN5Que"
      },
      "execution_count": null,
      "outputs": []
    },
    {
      "cell_type": "markdown",
      "source": [
        "Build radar function here."
      ],
      "metadata": {
        "id": "hoouiKEO5mEo"
      }
    },
    {
      "cell_type": "code",
      "source": [
        "def build_radar(antenna_locations):\n",
        "  tx_antenna_locations = antenna_locations[:num_tx_channels]\n",
        "  rx_antenna_locations = antenna_locations[num_tx_channels:]\n",
        "\n",
        "  # build transmitter\n",
        "  tx_channels = []\n",
        "  for i in range(num_tx_channels):\n",
        "    tx_channels.append(dict(location=(0, tx_antenna_locations[i,0], tx_antenna_locations[i,1]),\n",
        "                      azimuth_angle=angle,\n",
        "                      azimuth_pattern=pattern,\n",
        "                      elevation_angle=angle,\n",
        "                      elevation_pattern=pattern,\n",
        "                      delay=i*cycle_t))\n",
        "\n",
        "  tx = Transmitter(f=[frequency, frequency+chirp_bandwidth],\n",
        "                  t=17e-6,\n",
        "                  tx_power=tx_power,\n",
        "                  prp=288e-6,\n",
        "                  pulses=9,\n",
        "                  channels=tx_channels)\n",
        "\n",
        "  # build receiver\n",
        "  rx_channels = []\n",
        "  for i in range(num_rx_channels):\n",
        "    rx_channels.append(dict(location=(0, rx_antenna_locations[i,0], rx_antenna_locations[i,1]),\n",
        "                      azimuth_angle=angle,\n",
        "                      azimuth_pattern=pattern,\n",
        "                      elevation_angle=angle,\n",
        "                      elevation_pattern=pattern))\n",
        "\n",
        "  rx = Receiver(fs=15e6,\n",
        "                noise_figure=noise_level,\n",
        "                rf_gain=20,\n",
        "                baseband_gain=50,\n",
        "                load_resistor=500,\n",
        "                channels=rx_channels)\n",
        "\n",
        "  return Radar(transmitter=tx, receiver=rx)"
      ],
      "metadata": {
        "id": "dewFBEGw3dk1"
      },
      "execution_count": null,
      "outputs": []
    },
    {
      "cell_type": "markdown",
      "source": [
        "Build target list here."
      ],
      "metadata": {
        "id": "y048oGBZPohQ"
      }
    },
    {
      "cell_type": "code",
      "source": [
        "def build_targets():\n",
        "  target_1 = dict(location=(160, 0, 0), speed=(0, 0, 0), rcs=25, phase=0)\n",
        "  target_2 = dict(location=(80, -80, 0), speed=(0, 0, 0), rcs=20, phase=0)\n",
        "  target_3 = dict(location=(30, 20, 0), speed=(0, 0, 0), rcs=8, phase=0)\n",
        "  num_targets = 3\n",
        "\n",
        "  return [target_1, target_2, target_3], num_targets"
      ],
      "metadata": {
        "id": "hBjT_SUaPoHx"
      },
      "execution_count": null,
      "outputs": []
    },
    {
      "cell_type": "markdown",
      "source": [
        "### Perform DSP\n",
        "Run data through RadarSimPy for radar simulation and then perform DSP on raw signals."
      ],
      "metadata": {
        "id": "vE4rOj35P065"
      }
    },
    {
      "cell_type": "code",
      "source": [
        "def get_DOA(radar, antenna_locations, baseband, num_targets):\n",
        "  tx_antenna_locations = antenna_locations[:num_tx_channels]\n",
        "  rx_antenna_locations = antenna_locations[num_tx_channels:]\n",
        "\n",
        "  range_window = signal.chebwin(radar.samples_per_pulse, at=60) # is 60 correct? example says 80?\n",
        "  range_profile = proc.range_fft(baseband, range_window)\n",
        "\n",
        "  # MY CHANGES\n",
        "  doppler_window = signal.chebwin(pulses, at=60) # is 60 correct?\n",
        "  range_dopp_prof = proc.range_doppler_fft(baseband, range_window,doppler_window)\n",
        "\n",
        "  # Get MIMO signal by averaging receiver returns\n",
        "  P = range_dopp_prof.shape[0]\n",
        "  doppler_indices = range_dopp_prof.shape[1]\n",
        "  range_indices = range_dopp_prof.shape[2]\n",
        "  avg_prof = np.mean(np.abs(range_dopp_prof), axis=0) # avg along number of channels- then get peaks\n",
        "\n",
        "  # flatten, find doppler + range peak indices for targets (should be 3)\n",
        "  flattened_avg_prof = avg_prof.flatten()\n",
        "\n",
        "  # indices of peaks in flattened 1d array\n",
        "  s_peaks,_ = find_peaks(flattened_avg_prof, np.percentile(flattened_avg_prof, 95))  # issue!! what do we set to to find peaks?\n",
        "\n",
        "  # get 2d indices of peaks- should return a list of 2 (num axis) length-3 (num targets) tuples\n",
        "  s_2d_peaks = np.unravel_index(s_peaks, (doppler_indices, range_indices))\n",
        "  doppler_pk_idx = s_2d_peaks[0]\n",
        "  range_pk_idx = s_2d_peaks[1]\n",
        "\n",
        "  # initialize empty array to fill with rx signal about targets (like s vector from hw2q3)\n",
        "  s_vec = np.empty(P,dtype='complex128')\n",
        "  for pk in range(num_targets):\n",
        "    di = doppler_pk_idx[pk]\n",
        "    ri = range_pk_idx[pk]\n",
        "    s_vec += np.array(range_dopp_prof[:,di,ri])\n",
        "\n",
        "  my_fov = np.deg2rad(theta_fov)\n",
        "  num_doa = N\n",
        "  doa_grid = np.linspace(-my_fov/2, my_fov/2, num_doa)\n",
        "\n",
        "  A = np.zeros((P, num_doa), dtype=complex)\n",
        "\n",
        "  real_tx_pos = np.linalg.norm(tx_antenna_locations, axis=1)\n",
        "  real_rx_pos = np.linalg.norm(rx_antenna_locations, axis=1)\n",
        "\n",
        "  virtual_array_elem_pos = np.empty(P)\n",
        "  idx = 0\n",
        "  for tx_elem in range(num_tx_channels):\n",
        "    for rx_elem in range(num_rx_channels):\n",
        "      virtual_array_elem_pos[idx] = real_tx_pos[tx_elem] + real_rx_pos[rx_elem]\n",
        "      idx += 1\n",
        "\n",
        "  # Compute DOA spectrum, number of targets and respective DOA estimates\n",
        "  for i in range(len(doa_grid)):\n",
        "    ai = np.array(np.exp(-2*1j*np.pi/wavelength*np.sin(doa_grid[i])*np.array(virtual_array_elem_pos)))\n",
        "    A[:,i] = ai\n",
        "\n",
        "  d_multi = np.absolute(np.matmul(np.conjugate(np.transpose(A)),s_vec))\n",
        "\n",
        "  d_peaks,_ = find_peaks(d_multi, np.percentile(d_multi, 95))\n",
        "  theta_hat = np.rad2deg(doa_grid[d_peaks])\n",
        "\n",
        "  return np.mean(d_multi[d_peaks]), 20*np.log10(d_multi), theta_hat"
      ],
      "metadata": {
        "id": "nfekLhwHQDxd"
      },
      "execution_count": null,
      "outputs": []
    },
    {
      "cell_type": "markdown",
      "source": [
        "###Optimizer\n",
        "Run a simulated annealing with momentum and cross entropy optimizer. Maximize based on average DOA amplitude."
      ],
      "metadata": {
        "id": "5kI0EUxGWjtv"
      }
    },
    {
      "cell_type": "markdown",
      "source": [
        "Simulated annealing with momentum optimizer defined here."
      ],
      "metadata": {
        "id": "Sbm4bBL5X2dd"
      }
    },
    {
      "cell_type": "code",
      "source": [
        "# optimization using annealing with momentum\n",
        "def annealing_momentum(f, x0, n):\n",
        "    alpha, f0, beta  =  0.3, f(x0), 0.8\n",
        "    x_history = [x0]\n",
        "    f_history = [f0]\n",
        "    dims = x0.shape\n",
        "    D = len(dims)\n",
        "    momentum = np.zeros(x0.shape)\n",
        "    for i in range(n):\n",
        "        #rand dir\n",
        "        dx = np.random.rand(*x0.shape)\n",
        "        new_momentum = beta*momentum + dx*alpha\n",
        "        fi = f(x0 + new_momentum)\n",
        "        if fi > f0:\n",
        "            momentum = new_momentum\n",
        "            f0 = fi\n",
        "            x0 = x0 + new_momentum\n",
        "            x_history.append(x0)\n",
        "            f_history.append(f0)\n",
        "        else:\n",
        "            momentum = beta*momentum\n",
        "\n",
        "    return x0, x_history, f_history"
      ],
      "metadata": {
        "id": "L54UoxdKWm-A"
      },
      "execution_count": null,
      "outputs": []
    },
    {
      "cell_type": "markdown",
      "source": [
        "Cross entropy method optimization defined here."
      ],
      "metadata": {
        "id": "6IIzKkUGYQQv"
      }
    },
    {
      "cell_type": "code",
      "source": [
        "def cross_entropy(f, x0, n, std_init, num_samples, num_elite):\n",
        "    mu, f0 = x0, f(x0)\n",
        "    sigma = std_init\n",
        "    xs, fs, mus, mufs = [], [], [], []\n",
        "    count = 0\n",
        "    while count < n-2:\n",
        "        xs.append(mu + sigma*np.random.randn(*x0.shape))\n",
        "        fs.append(f(xs[-1]))\n",
        "        if len(xs) == num_samples or count == n-2:\n",
        "            x_array = np.asarray(xs)\n",
        "            f_array = np.asarray(fs)\n",
        "            ind = np.argsort(f_array)\n",
        "            x_best = x_array[ind[:num_elite]]\n",
        "            f_best = f_array[ind[:num_elite]]\n",
        "            mu = np.mean(x_best, 0)\n",
        "            mus.append(mu)\n",
        "            mufs.append(f(mu))\n",
        "            std = np.std(x_best, 0)\n",
        "            if f_best[0] > f0:\n",
        "                f0 = f_best[0]\n",
        "                x0 = x_best[0]\n",
        "            xs, fs = [], []\n",
        "        count += 1\n",
        "\n",
        "    return x0, mus, mufs"
      ],
      "metadata": {
        "id": "hC_9eBr5YTbu"
      },
      "execution_count": null,
      "outputs": []
    },
    {
      "cell_type": "markdown",
      "source": [
        "Define function to optimize here along with penalty function."
      ],
      "metadata": {
        "id": "SzJL9K8PZLAu"
      }
    },
    {
      "cell_type": "code",
      "source": [
        "def penalty(x):\n",
        "  xc = np.ones_like(x[:,0])*(40*wavelength/2)\n",
        "  xc = np.concatenate((xc, np.ones_like(x[:,1])*(34*wavelength/2)))\n",
        "  x = x.flatten()\n",
        "  D = wavelength*np.concatenate((np.ones(num_total_channels)*40, np.ones(num_total_channels)*34))\n",
        "  xp = np.array(np.abs(x - xc)) * 2/D\n",
        "\n",
        "  return (-1/50)*np.sum(xp**8)\n",
        "\n",
        "def f(x):\n",
        "  radar = build_radar(x)\n",
        "  targets, num_targets = build_targets()\n",
        "  data = simc(radar, targets)\n",
        "  timestamp = data['timestamp']\n",
        "  baseband = data['baseband']\n",
        "  f, _, _ = get_DOA(radar, x, baseband, num_targets)\n",
        "\n",
        "  # penalty\n",
        "  p = penalty(x)\n",
        "  f = f + p\n",
        "\n",
        "  return f"
      ],
      "metadata": {
        "id": "FH-BuQC-ZOxE"
      },
      "execution_count": null,
      "outputs": []
    },
    {
      "cell_type": "markdown",
      "source": [
        "###Main\n",
        "Run project experiment here (call optimizer, plot, etc.)."
      ],
      "metadata": {
        "id": "ZzFvIdUKgAIj"
      }
    },
    {
      "cell_type": "code",
      "source": [
        "x0 = random_antenna_locations\n",
        "\n",
        "# x, x_history, f_history = annealing_momentum(f, x0, 200)\n",
        "x, x_history, f_history = cross_entropy(f, x0, 200, 1, 20, 5)"
      ],
      "metadata": {
        "id": "BpBIeub-gLOF"
      },
      "execution_count": null,
      "outputs": []
    },
    {
      "cell_type": "code",
      "source": [
        "x = np.array([[0.03923936, 0.1216965 ],\n",
        "       [0.06638256, 0.13195469],\n",
        "       [0.03667474, 0.07631205],\n",
        "       [0.14777798, 0.01020302],\n",
        "       [0.15091483, 0.00110744],\n",
        "       [0.14697728, 0.09836831],\n",
        "       [0.01354361, 0.07102248],\n",
        "       [0.0201833 , 0.03074198],\n",
        "       [0.03484043, 0.09091035],\n",
        "       [0.01902152, 0.12024552],\n",
        "       [0.06982106, 0.04745865],\n",
        "       [0.14590638, 0.04730794],\n",
        "       [0.07272981, 0.01080423],\n",
        "       [0.06131625, 0.10060045],\n",
        "       [0.1182706 , 0.02682072],\n",
        "       [0.0078602 , 0.04166259],\n",
        "       [0.03196735, 0.01575171],\n",
        "       [0.08439428, 0.06139083],\n",
        "       [0.0510699 , 0.06031396],\n",
        "       [0.09923976, 0.07993431],\n",
        "       [0.01092705, 0.02701453],\n",
        "       [0.08914574, 0.08039772],\n",
        "       [0.0662027 , 0.0866113 ],\n",
        "       [0.1408482 , 0.05595424],\n",
        "       [0.10956409, 0.06689413]])\n",
        "\n",
        "x_tx = x[:9]/wavelength\n",
        "x_rx = x[9:]/wavelength\n",
        "\n",
        "# plot antenna configuration\n",
        "fig1, axs1 = plt.subplots(1, 1)\n",
        "axs1.scatter(x_tx[:,0], x_tx[:,1])\n",
        "axs1.scatter(x_rx[:,0], x_rx[:,1])\n",
        "axs1.set_xlabel('Width ($\\lambda$)', fontsize=12)\n",
        "axs1.set_ylabel('Height ($\\lambda$)', fontsize=12)\n",
        "axs1.grid(visible=True)\n",
        "plt.show()"
      ],
      "metadata": {
        "id": "twm0mYv8u9Na",
        "colab": {
          "base_uri": "https://localhost:8080/",
          "height": 455
        },
        "outputId": "071932a2-f27a-49dd-a88b-f4a124c058eb"
      },
      "execution_count": null,
      "outputs": [
        {
          "output_type": "display_data",
          "data": {
            "text/plain": [
              "<Figure size 640x480 with 1 Axes>"
            ],
            "image/png": "[encoded data removed]"
          },
          "metadata": {}
        }
      ]
    },
    {
      "cell_type": "code",
      "source": [],
      "metadata": {
        "id": "p6toCIk65zyt"
      },
      "execution_count": null,
      "outputs": []
    },
    {
      "cell_type": "code",
      "source": [
        "f_history"
      ],
      "metadata": {
        "id": "7XAvOqe1vEQO"
      },
      "execution_count": null,
      "outputs": []
    },
    {
      "cell_type": "code",
      "source": [
        "# x = initial_antenna_locations\n",
        "radar = build_radar(x)\n",
        "targets, num_targets = build_targets()\n",
        "data = simc(radar, targets)\n",
        "timestamp = data['timestamp']\n",
        "baseband = data['baseband']\n",
        "f, spectrum, theta_hat = get_DOA(radar, x, baseband, num_targets)\n",
        "\n",
        "# plot the DOA Spectrum\n",
        "fig1, axs1 = plt.subplots(1, 1)\n",
        "axs1.plot(angle, spectrum)\n",
        "axs1.set_xlabel('Theta (degrees)', fontsize=12)\n",
        "axs1.set_ylabel('DOA Spectrum (dB)', fontsize=12)\n",
        "axs1.grid(visible=True)\n",
        "plt.show()"
      ],
      "metadata": {
        "colab": {
          "base_uri": "https://localhost:8080/",
          "height": 453
        },
        "id": "nSXe0BIq9QRh",
        "outputId": "ad2b8a2e-85f2-48ef-b36a-a5bdacc8255f"
      },
      "execution_count": null,
      "outputs": [
        {
          "output_type": "display_data",
          "data": {
            "text/plain": [
              "<Figure size 640x480 with 1 Axes>"
            ],
            "image/png": "[encoded data removed]"
          },
          "metadata": {}
        }
      ]
    }
  ]
}