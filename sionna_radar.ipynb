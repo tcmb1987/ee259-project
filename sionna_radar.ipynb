{
  "nbformat": 4,
  "nbformat_minor": 0,
  "metadata": {
    "colab": {
      "provenance": [],
      "include_colab_link": true
    },
    "kernelspec": {
      "name": "python3",
      "display_name": "Python 3"
    },
    "language_info": {
      "name": "python"
    }
  },
  "cells": [
    {
      "cell_type": "markdown",
      "metadata": {
        "id": "view-in-github",
        "colab_type": "text"
      },
      "source": [
        "<a href=\"https://colab.research.google.com/github/tcmb1987/ee259-project/blob/main/sionna_radar.ipynb\" target=\"_parent\"><img src=\"https://colab.research.google.com/assets/colab-badge.svg\" alt=\"Open In Colab\"/></a>"
      ]
    },
    {
      "cell_type": "code",
      "execution_count": null,
      "metadata": {
        "id": "teIItszlPQnm"
      },
      "outputs": [],
      "source": [
        "import numpy as np\n",
        "import tensorflow as tf\n",
        "\n",
        "# Import Sionna\n",
        "try:\n",
        "    import sionna\n",
        "except ImportError as e:\n",
        "    # Install Sionna if package is not already installed\n",
        "    import os\n",
        "    os.system(\"pip install sionna\")\n",
        "    import sionna\n",
        "\n",
        "# IPython \"magic function\" for inline plots\n",
        "%matplotlib inline\n",
        "import matplotlib.pyplot as plt\n"
      ]
    },
    {
      "cell_type": "code",
      "source": [
        "import math"
      ],
      "metadata": {
        "id": "hJqmCpvVgi_c"
      },
      "execution_count": null,
      "outputs": []
    },
    {
      "cell_type": "code",
      "source": [
        "!nvidia-smi"
      ],
      "metadata": {
        "colab": {
          "base_uri": "https://localhost:8080/"
        },
        "id": "MmtbMT7yfsAn",
        "outputId": "055dd32a-4fb4-4067-f218-fd79dd8bb71e"
      },
      "execution_count": null,
      "outputs": [
        {
          "output_type": "stream",
          "name": "stdout",
          "text": [
            "/bin/bash: nvidia-smi: command not found\n"
          ]
        }
      ]
    },
    {
      "cell_type": "code",
      "source": [
        "# Configure the notebook to use only a single GPU and allocate only as much memory as needed\n",
        "# For more details, see https://www.tensorflow.org/guide/gpu\n",
        "gpus = tf.config.list_physical_devices('GPU')\n",
        "print('Number of GPUs available :', len(gpus))\n",
        "if gpus:\n",
        "    gpu_num = 0 # Index of the GPU to be used\n",
        "    try:\n",
        "        #tf.config.set_visible_devices([], 'GPU')\n",
        "        tf.config.set_visible_devices(gpus[gpu_num], 'GPU')\n",
        "        print('Only GPU number', gpu_num, 'used.')\n",
        "        tf.config.experimental.set_memory_growth(gpus[gpu_num], True)\n",
        "    except RuntimeError as e:\n",
        "        print(e)"
      ],
      "metadata": {
        "colab": {
          "base_uri": "https://localhost:8080/"
        },
        "id": "ZV_K5mjJfuJN",
        "outputId": "95a918d3-31da-4069-9701-b77a092f851f"
      },
      "execution_count": null,
      "outputs": [
        {
          "output_type": "stream",
          "name": "stdout",
          "text": [
            "Number of GPUs available : 0\n"
          ]
        }
      ]
    },
    {
      "cell_type": "code",
      "source": [
        "array_size = 9\n",
        "init_antenna_pos = [[0,0,0],[1,0,0],[2,0,0],[0,1,0],[1,1,0],[2,1,0],[0,2,0],[1,2,0],[2,2,0]] #9x3\n",
        "#detect_obj = sionna.SceneObject()\n",
        "ant = sionna.rt.Antenna(\"iso\",\"V\")\n",
        "ant_array = sionna.rt.AntennaArray(ant,init_antenna_pos,True) # positions are trainable\n",
        "init_tx_pos =[0,0,0]\n",
        "radar_tx = sionna.rt.Transmitter(\"radar_tx\",position=init_tx_pos,trainable_position=True,trainable_orientation=True)\n",
        "\n",
        "init_obj_pos = [1000,1000,1000]\n",
        "init_obj_or = [0,0,0]\n",
        "# what is look at??\n",
        "obj_tx = sionna.rt.Transmitter(\"obj_tx\",position=init_obj_pos,orientation=init_obj_or,trainable_position=True,trainable_orientation=True)\n",
        "obj_rx = sionna.rt.Receiver(\"obj_rx\",position=init_obj_pos,orientation=init_obj_or,trainable_position=True,trainable_orientation=True)\n",
        "\n",
        "# radar chirp (values from Radar lecture slides)\n",
        "b = 12E12 # slew rate Hz/s\n",
        "T = 45E-6 #45uS\n",
        "fc = 77E9 #76GHz\n",
        "t = np.linspace(0,T,1000)\n",
        "\n",
        "# Transmit over noisy multi-path channel \n",
        "#no = sionna.utils.ebnodb2no(ebno_db, self.num_bits_per_symbol, self.coderate, self.rg)\n",
        "       \n",
        "# assume flat fading channel?\n",
        "channel_1 = sionna.channel.RayleighBlockFading(num_rx=1,num_rx_ant=1,num_tx=1,num_tx_ant=array_size) # radar tx to object rx\n",
        "channel_2 = sionna.channel.RayleighBlockFading(num_rx=1,num_rx_ant=array_size,num_tx = 1, num_tx_ant=1) # object tx to radar rx\n",
        "\n",
        "\n",
        "#y = self.channel([x_rg, no]) "
      ],
      "metadata": {
        "id": "Pg8-iMjqZroM"
      },
      "execution_count": null,
      "outputs": []
    },
    {
      "cell_type": "code",
      "source": [
        "# send tx signal\n",
        "no = 0.2 # Noise variance of the channel (arbitrarily chosen)\n",
        "#s_tx = math.e**(1j*2*math.pi*(fc+b*t/2)*t)\n",
        "# s_rx = alpha*s_tx(t-tau)*math.e**(1j*2*math.pi*fd*t)\n",
        "num_bits_per_symbol = 1\n",
        "batch_size = 1024 # number of symbols transmitted per antenna\n",
        "init_tensor = np.array([1,-1])\n",
        "radar_tx_tensor = tf.constant(tf.tile(init_tensor,multiples=[batch_size]))\n",
        "print(radar_tx_tensor.shape)\n",
        "# FIX MEEEE\n",
        "#radar_tx_tensor_array = tf.repeat(radar_tx_tensor,repeats=array_size)\n",
        "# figure out how to repeat\n",
        "#radar_tx_tensor_array = tf.Tensor([radar_tx_tensor radar_tx_tensor radar_tx_tensor radar_tx_tensor radar_tx_tensor radar_tx_tensor radar_tx_tensor radar_tx_tensor radar_tx_tensor],shape=(batch_size,array_size))\n",
        "#print(radar_tx_tensor_array.shape)\n",
        "\n",
        "#pam_source = sionna.utils.PAMSource(num_bits_per_symbol)\n",
        "#s_tx = pam_source([batch_size, array_size])\n",
        "#obj_rx_signal,h_1 = channel_1([radar_tx_tensor,no])"
      ],
      "metadata": {
        "colab": {
          "base_uri": "https://localhost:8080/"
        },
        "id": "ZU0Sfni9FA8i",
        "outputId": "41ae85c7-d43a-4540-83ff-2f76cba2a1f6"
      },
      "execution_count": null,
      "outputs": [
        {
          "output_type": "stream",
          "name": "stdout",
          "text": [
            "(2048,)\n"
          ]
        }
      ]
    },
    {
      "cell_type": "code",
      "source": [
        "# test, not radar signal\n",
        "num_tx_ant = 9\n",
        "num_rx_ant = 1\n",
        "num_bits_per_symbol = 4\n",
        "batch_size = 1024\n",
        "qam_source = sionna.utils.QAMSource(num_bits_per_symbol)\n",
        "x = qam_source([batch_size, num_tx_ant])\n",
        "#print(x.shape)\n",
        "#print(x)\n",
        "num_time_steps = 10*len(t) # num_time_steps = 10*length of radar pulse, arbitrarily chosen\n",
        "filter_len = 1000 # what should i be????\n",
        "\n",
        "channel_test = sionna.channel.RayleighBlockFading(num_rx=1,num_rx_ant=1,num_tx=1,num_tx_ant=9) # radar tx to object rx\n",
        "h,tau=channel_test(batch_size,num_time_steps) \n",
        "time_channel = sionna.channel.ApplyTimeChannel(num_time_steps,filter_len)\n",
        "time_channel_out = time_channel((x,h,no)) # what's wrong with me???\n",
        "\n",
        "print(h.shape)\n",
        "print(tau.shape)\n",
        "print(h)\n",
        "print(tau)"
      ],
      "metadata": {
        "colab": {
          "base_uri": "https://localhost:8080/",
          "height": 711
        },
        "id": "GreSbyJXPG0t",
        "outputId": "f03352bd-3204-47d3-a778-292cb9f07424"
      },
      "execution_count": null,
      "outputs": [
        {
          "output_type": "error",
          "ename": "InvalidArgumentError",
          "evalue": "ignored",
          "traceback": [
            "\u001b[0;31m---------------------------------------------------------------------------\u001b[0m",
            "\u001b[0;31mInvalidArgumentError\u001b[0m                      Traceback (most recent call last)",
            "\u001b[0;32m<ipython-input-76-f2aaf9832af4>\u001b[0m in \u001b[0;36m<cell line: 16>\u001b[0;34m()\u001b[0m\n\u001b[1;32m     14\u001b[0m \u001b[0mh\u001b[0m\u001b[0;34m,\u001b[0m\u001b[0mtau\u001b[0m\u001b[0;34m=\u001b[0m\u001b[0mchannel_test\u001b[0m\u001b[0;34m(\u001b[0m\u001b[0mbatch_size\u001b[0m\u001b[0;34m,\u001b[0m\u001b[0mnum_time_steps\u001b[0m\u001b[0;34m)\u001b[0m \u001b[0;31m# num_time_steps = 10*length of radar pulse, arbitrarily chosen\u001b[0m\u001b[0;34m\u001b[0m\u001b[0;34m\u001b[0m\u001b[0m\n\u001b[1;32m     15\u001b[0m \u001b[0mtime_channel\u001b[0m \u001b[0;34m=\u001b[0m \u001b[0msionna\u001b[0m\u001b[0;34m.\u001b[0m\u001b[0mchannel\u001b[0m\u001b[0;34m.\u001b[0m\u001b[0mApplyTimeChannel\u001b[0m\u001b[0;34m(\u001b[0m\u001b[0mnum_time_steps\u001b[0m\u001b[0;34m,\u001b[0m\u001b[0mfilter_len\u001b[0m\u001b[0;34m)\u001b[0m\u001b[0;34m\u001b[0m\u001b[0;34m\u001b[0m\u001b[0m\n\u001b[0;32m---> 16\u001b[0;31m \u001b[0mtime_channel_out\u001b[0m \u001b[0;34m=\u001b[0m \u001b[0mtime_channel\u001b[0m\u001b[0;34m(\u001b[0m\u001b[0;34m(\u001b[0m\u001b[0mx\u001b[0m\u001b[0;34m,\u001b[0m\u001b[0mh\u001b[0m\u001b[0;34m,\u001b[0m\u001b[0mno\u001b[0m\u001b[0;34m)\u001b[0m\u001b[0;34m)\u001b[0m\u001b[0;34m\u001b[0m\u001b[0;34m\u001b[0m\u001b[0m\n\u001b[0m\u001b[1;32m     17\u001b[0m \u001b[0;34m\u001b[0m\u001b[0m\n\u001b[1;32m     18\u001b[0m \u001b[0mprint\u001b[0m\u001b[0;34m(\u001b[0m\u001b[0mh\u001b[0m\u001b[0;34m.\u001b[0m\u001b[0mshape\u001b[0m\u001b[0;34m)\u001b[0m\u001b[0;34m\u001b[0m\u001b[0;34m\u001b[0m\u001b[0m\n",
            "\u001b[0;32m/usr/local/lib/python3.10/dist-packages/keras/utils/traceback_utils.py\u001b[0m in \u001b[0;36merror_handler\u001b[0;34m(*args, **kwargs)\u001b[0m\n\u001b[1;32m     68\u001b[0m             \u001b[0;31m# To get the full stack trace, call:\u001b[0m\u001b[0;34m\u001b[0m\u001b[0;34m\u001b[0m\u001b[0m\n\u001b[1;32m     69\u001b[0m             \u001b[0;31m# `tf.debugging.disable_traceback_filtering()`\u001b[0m\u001b[0;34m\u001b[0m\u001b[0;34m\u001b[0m\u001b[0m\n\u001b[0;32m---> 70\u001b[0;31m             \u001b[0;32mraise\u001b[0m \u001b[0me\u001b[0m\u001b[0;34m.\u001b[0m\u001b[0mwith_traceback\u001b[0m\u001b[0;34m(\u001b[0m\u001b[0mfiltered_tb\u001b[0m\u001b[0;34m)\u001b[0m \u001b[0;32mfrom\u001b[0m \u001b[0;32mNone\u001b[0m\u001b[0;34m\u001b[0m\u001b[0;34m\u001b[0m\u001b[0m\n\u001b[0m\u001b[1;32m     71\u001b[0m         \u001b[0;32mfinally\u001b[0m\u001b[0;34m:\u001b[0m\u001b[0;34m\u001b[0m\u001b[0;34m\u001b[0m\u001b[0m\n\u001b[1;32m     72\u001b[0m             \u001b[0;32mdel\u001b[0m \u001b[0mfiltered_tb\u001b[0m\u001b[0;34m\u001b[0m\u001b[0;34m\u001b[0m\u001b[0m\n",
            "\u001b[0;32m/usr/local/lib/python3.10/dist-packages/sionna/channel/apply_time_channel.py\u001b[0m in \u001b[0;36mcall\u001b[0;34m(self, inputs)\u001b[0m\n\u001b[1;32m    150\u001b[0m \u001b[0;34m\u001b[0m\u001b[0m\n\u001b[1;32m    151\u001b[0m         \u001b[0;31m# Preparing the channel input for broadcasting and matrix multiplication\u001b[0m\u001b[0;34m\u001b[0m\u001b[0;34m\u001b[0m\u001b[0m\n\u001b[0;32m--> 152\u001b[0;31m         \u001b[0mx\u001b[0m \u001b[0;34m=\u001b[0m \u001b[0mtf\u001b[0m\u001b[0;34m.\u001b[0m\u001b[0mpad\u001b[0m\u001b[0;34m(\u001b[0m\u001b[0mx\u001b[0m\u001b[0;34m,\u001b[0m \u001b[0;34m[\u001b[0m\u001b[0;34m[\u001b[0m\u001b[0;36m0\u001b[0m\u001b[0;34m,\u001b[0m\u001b[0;36m0\u001b[0m\u001b[0;34m]\u001b[0m\u001b[0;34m,\u001b[0m \u001b[0;34m[\u001b[0m\u001b[0;36m0\u001b[0m\u001b[0;34m,\u001b[0m\u001b[0;36m0\u001b[0m\u001b[0;34m]\u001b[0m\u001b[0;34m,\u001b[0m \u001b[0;34m[\u001b[0m\u001b[0;36m0\u001b[0m\u001b[0;34m,\u001b[0m\u001b[0;36m0\u001b[0m\u001b[0;34m]\u001b[0m\u001b[0;34m,\u001b[0m \u001b[0;34m[\u001b[0m\u001b[0;36m0\u001b[0m\u001b[0;34m,\u001b[0m\u001b[0;36m1\u001b[0m\u001b[0;34m]\u001b[0m\u001b[0;34m]\u001b[0m\u001b[0;34m)\u001b[0m\u001b[0;34m\u001b[0m\u001b[0;34m\u001b[0m\u001b[0m\n\u001b[0m\u001b[1;32m    153\u001b[0m         \u001b[0mx\u001b[0m \u001b[0;34m=\u001b[0m \u001b[0minsert_dims\u001b[0m\u001b[0;34m(\u001b[0m\u001b[0mx\u001b[0m\u001b[0;34m,\u001b[0m \u001b[0;36m2\u001b[0m\u001b[0;34m,\u001b[0m \u001b[0maxis\u001b[0m\u001b[0;34m=\u001b[0m\u001b[0;36m1\u001b[0m\u001b[0;34m)\u001b[0m\u001b[0;34m\u001b[0m\u001b[0;34m\u001b[0m\u001b[0m\n\u001b[1;32m    154\u001b[0m \u001b[0;34m\u001b[0m\u001b[0m\n",
            "\u001b[0;31mInvalidArgumentError\u001b[0m: Exception encountered when calling layer 'apply_time_channel_1' (type ApplyTimeChannel).\n\n{{function_node __wrapped__Pad_device_/job:localhost/replica:0/task:0/device:CPU:0}} The first dimension of paddings must be the rank of inputs[4,2] [1024,9] [Op:Pad]\n\nCall arguments received by layer 'apply_time_channel_1' (type ApplyTimeChannel):\n  • inputs=('tf.Tensor(shape=(1024, 9), dtype=complex64)', 'tf.Tensor(shape=(1024, 1, 1, 1, 9, 1, 10000), dtype=complex64)', 'tf.Tensor(shape=(), dtype=float32)')"
          ]
        }
      ]
    },
    {
      "cell_type": "code",
      "source": [
        "a = tf.constant(radar_tx_tensor)\n",
        "b = tf.Tensor()\n",
        "b.shape\n"
      ],
      "metadata": {
        "colab": {
          "base_uri": "https://localhost:8080/",
          "height": 240
        },
        "id": "_iv5EcjzQNK_",
        "outputId": "6696bff6-da44-46dc-b7fc-5735d3420176"
      },
      "execution_count": null,
      "outputs": [
        {
          "output_type": "error",
          "ename": "AttributeError",
          "evalue": "ignored",
          "traceback": [
            "\u001b[0;31m---------------------------------------------------------------------------\u001b[0m",
            "\u001b[0;31mAttributeError\u001b[0m                            Traceback (most recent call last)",
            "\u001b[0;32m<ipython-input-66-a2104489893d>\u001b[0m in \u001b[0;36m<cell line: 3>\u001b[0;34m()\u001b[0m\n\u001b[1;32m      1\u001b[0m \u001b[0ma\u001b[0m \u001b[0;34m=\u001b[0m \u001b[0mtf\u001b[0m\u001b[0;34m.\u001b[0m\u001b[0mconstant\u001b[0m\u001b[0;34m(\u001b[0m\u001b[0mradar_tx_tensor\u001b[0m\u001b[0;34m)\u001b[0m\u001b[0;34m\u001b[0m\u001b[0;34m\u001b[0m\u001b[0m\n\u001b[1;32m      2\u001b[0m \u001b[0mb\u001b[0m \u001b[0;34m=\u001b[0m \u001b[0;34m[\u001b[0m\u001b[0ma\u001b[0m\u001b[0;34m,\u001b[0m\u001b[0ma\u001b[0m\u001b[0;34m,\u001b[0m\u001b[0ma\u001b[0m\u001b[0;34m]\u001b[0m\u001b[0;34m\u001b[0m\u001b[0;34m\u001b[0m\u001b[0m\n\u001b[0;32m----> 3\u001b[0;31m \u001b[0mb\u001b[0m\u001b[0;34m.\u001b[0m\u001b[0mshape\u001b[0m\u001b[0;34m\u001b[0m\u001b[0;34m\u001b[0m\u001b[0m\n\u001b[0m",
            "\u001b[0;31mAttributeError\u001b[0m: 'list' object has no attribute 'shape'"
          ]
        }
      ]
    },
    {
      "cell_type": "code",
      "source": [
        "a = tf.Tensor([[1.0,2.0] [3.0,4.0]],shape=(2,2))"
      ],
      "metadata": {
        "colab": {
          "base_uri": "https://localhost:8080/",
          "height": 296
        },
        "id": "_alICGqkR4Wl",
        "outputId": "55be7f88-2053-447a-d8f1-41f7ea41d24c"
      },
      "execution_count": null,
      "outputs": [
        {
          "output_type": "stream",
          "name": "stderr",
          "text": [
            "<>:1: SyntaxWarning: list indices must be integers or slices, not tuple; perhaps you missed a comma?\n",
            "<>:1: SyntaxWarning: list indices must be integers or slices, not tuple; perhaps you missed a comma?\n",
            "<ipython-input-59-9fbc00fd71b6>:1: SyntaxWarning: list indices must be integers or slices, not tuple; perhaps you missed a comma?\n",
            "  a = tf.Tensor([[1.0,2.0] [3.0,4.0]],shape=(2,2))\n"
          ]
        },
        {
          "output_type": "error",
          "ename": "TypeError",
          "evalue": "ignored",
          "traceback": [
            "\u001b[0;31m---------------------------------------------------------------------------\u001b[0m",
            "\u001b[0;31mTypeError\u001b[0m                                 Traceback (most recent call last)",
            "\u001b[0;32m<ipython-input-59-9fbc00fd71b6>\u001b[0m in \u001b[0;36m<cell line: 1>\u001b[0;34m()\u001b[0m\n\u001b[0;32m----> 1\u001b[0;31m \u001b[0ma\u001b[0m \u001b[0;34m=\u001b[0m \u001b[0mtf\u001b[0m\u001b[0;34m.\u001b[0m\u001b[0mTensor\u001b[0m\u001b[0;34m(\u001b[0m\u001b[0;34m[\u001b[0m\u001b[0;34m[\u001b[0m\u001b[0;36m1.0\u001b[0m\u001b[0;34m,\u001b[0m\u001b[0;36m2.0\u001b[0m\u001b[0;34m]\u001b[0m \u001b[0;34m[\u001b[0m\u001b[0;36m3.0\u001b[0m\u001b[0;34m,\u001b[0m\u001b[0;36m4.0\u001b[0m\u001b[0;34m]\u001b[0m\u001b[0;34m]\u001b[0m\u001b[0;34m,\u001b[0m\u001b[0mshape\u001b[0m\u001b[0;34m=\u001b[0m\u001b[0;34m(\u001b[0m\u001b[0;36m2\u001b[0m\u001b[0;34m,\u001b[0m\u001b[0;36m2\u001b[0m\u001b[0;34m)\u001b[0m\u001b[0;34m)\u001b[0m\u001b[0;34m\u001b[0m\u001b[0;34m\u001b[0m\u001b[0m\n\u001b[0m",
            "\u001b[0;31mTypeError\u001b[0m: list indices must be integers or slices, not tuple"
          ]
        }
      ]
    }
  ]
}