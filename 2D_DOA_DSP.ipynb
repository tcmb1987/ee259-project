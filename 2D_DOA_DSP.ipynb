{
  "nbformat": 4,
  "nbformat_minor": 0,
  "metadata": {
    "colab": {
      "provenance": [],
      "include_colab_link": true
    },
    "kernelspec": {
      "name": "python3",
      "display_name": "Python 3"
    },
    "language_info": {
      "name": "python"
    }
  },
  "cells": [
    {
      "cell_type": "markdown",
      "metadata": {
        "id": "view-in-github",
        "colab_type": "text"
      },
      "source": [
        "<a href=\"https://colab.research.google.com/github/tcmb1987/ee259-project/blob/main/2D_DOA_DSP.ipynb\" target=\"_parent\"><img src=\"https://colab.research.google.com/assets/colab-badge.svg\" alt=\"Open In Colab\"/></a>"
      ]
    },
    {
      "cell_type": "markdown",
      "source": [
        "# CS 361 and EE 259 Project - Radar Simulator with Optimizer\n"
      ],
      "metadata": {
        "id": "c6oB-KIXeVYL"
      }
    },
    {
      "cell_type": "markdown",
      "source": [
        "###Setup\n",
        "\n",
        "Start with mounting your Stanford Google Drive."
      ],
      "metadata": {
        "id": "-Dx-22_PeeED"
      }
    },
    {
      "cell_type": "code",
      "execution_count": null,
      "metadata": {
        "colab": {
          "base_uri": "https://localhost:8080/"
        },
        "id": "zpYVvbAbJ9BB",
        "outputId": "38e4d32b-e7d8-4400-e211-ff8713c4522b"
      },
      "outputs": [
        {
          "output_type": "stream",
          "name": "stdout",
          "text": [
            "Drive already mounted at /content/drive; to attempt to forcibly remount, call drive.mount(\"/content/drive\", force_remount=True).\n"
          ]
        }
      ],
      "source": [
        "from google.colab import drive\n",
        "drive.mount(\"/content/drive\")"
      ]
    },
    {
      "cell_type": "markdown",
      "source": [
        "Create Ubuntu toolchain, update and install latest libstdc++6 (what was giving us the headache before). Notice, after running the toolchain cell need to click below the prompt and hit 'Enter'. Also, install kaleido since it's what the tutorial uses for plotting."
      ],
      "metadata": {
        "id": "rYDsDCiNgF25"
      }
    },
    {
      "cell_type": "code",
      "source": [
        "!add-apt-repository ppa:ubuntu-toolchain-r/test"
      ],
      "metadata": {
        "id": "1lrWFlwueB24",
        "colab": {
          "base_uri": "https://localhost:8080/"
        },
        "outputId": "8bd8d814-6f83-4dda-8d0a-bd9bd5dd1074"
      },
      "execution_count": null,
      "outputs": [
        {
          "output_type": "stream",
          "name": "stdout",
          "text": [
            " Toolchain test builds; see https://wiki.ubuntu.com/ToolChain\n",
            "\n",
            " More info: https://launchpad.net/~ubuntu-toolchain-r/+archive/ubuntu/test\n",
            "Press [ENTER] to continue or Ctrl-c to cancel adding it.\n",
            "\n",
            "Hit:1 https://cloud.r-project.org/bin/linux/ubuntu focal-cran40/ InRelease\n",
            "Hit:2 https://developer.download.nvidia.com/compute/cuda/repos/ubuntu2004/x86_64  InRelease\n",
            "Hit:3 http://security.ubuntu.com/ubuntu focal-security InRelease\n",
            "Hit:4 http://archive.ubuntu.com/ubuntu focal InRelease\n",
            "Hit:5 http://ppa.launchpad.net/c2d4u.team/c2d4u4.0+/ubuntu focal InRelease\n",
            "Hit:6 http://archive.ubuntu.com/ubuntu focal-updates InRelease\n",
            "Hit:7 http://archive.ubuntu.com/ubuntu focal-backports InRelease\n",
            "Hit:8 http://ppa.launchpad.net/cran/libgit2/ubuntu focal InRelease\n",
            "Hit:9 http://ppa.launchpad.net/deadsnakes/ppa/ubuntu focal InRelease\n",
            "Hit:10 http://ppa.launchpad.net/graphics-drivers/ppa/ubuntu focal InRelease\n",
            "Hit:11 http://ppa.launchpad.net/ubuntu-toolchain-r/test/ubuntu focal InRelease\n",
            "Hit:12 http://ppa.launchpad.net/ubuntugis/ppa/ubuntu focal InRelease\n",
            "Reading package lists... Done\n"
          ]
        }
      ]
    },
    {
      "cell_type": "code",
      "source": [
        "!apt-get update\n",
        "!apt-get upgrade\n",
        "!apt-get install libstdc++6\n",
        "!pip install kaleido"
      ],
      "metadata": {
        "id": "BHu4y-UreE6B",
        "colab": {
          "base_uri": "https://localhost:8080/"
        },
        "outputId": "846148a8-8956-42b2-aa5c-80a5cc268992"
      },
      "execution_count": null,
      "outputs": [
        {
          "output_type": "stream",
          "name": "stdout",
          "text": [
            "\r0% [Working]\r            \rHit:1 https://cloud.r-project.org/bin/linux/ubuntu focal-cran40/ InRelease\n",
            "\r0% [Connecting to archive.ubuntu.com (185.125.190.36)] [Connecting to security.\r                                                                               \rHit:2 https://developer.download.nvidia.com/compute/cuda/repos/ubuntu2004/x86_64  InRelease\n",
            "\r0% [Connecting to archive.ubuntu.com (185.125.190.36)] [Connecting to security.\r                                                                               \rHit:3 http://ppa.launchpad.net/c2d4u.team/c2d4u4.0+/ubuntu focal InRelease\n",
            "\r0% [Waiting for headers] [Waiting for headers] [Connecting to ppa.launchpad.net\r                                                                               \rHit:4 http://archive.ubuntu.com/ubuntu focal InRelease\n",
            "Hit:5 http://security.ubuntu.com/ubuntu focal-security InRelease\n",
            "Hit:6 http://archive.ubuntu.com/ubuntu focal-updates InRelease\n",
            "Hit:7 http://ppa.launchpad.net/cran/libgit2/ubuntu focal InRelease\n",
            "Hit:8 http://archive.ubuntu.com/ubuntu focal-backports InRelease\n",
            "Hit:9 http://ppa.launchpad.net/deadsnakes/ppa/ubuntu focal InRelease\n",
            "Hit:10 http://ppa.launchpad.net/graphics-drivers/ppa/ubuntu focal InRelease\n",
            "Hit:11 http://ppa.launchpad.net/ubuntu-toolchain-r/test/ubuntu focal InRelease\n",
            "Hit:12 http://ppa.launchpad.net/ubuntugis/ppa/ubuntu focal InRelease\n",
            "Reading package lists... Done\n",
            "Reading package lists... Done\n",
            "Building dependency tree       \n",
            "Reading state information... Done\n",
            "Calculating upgrade... Done\n",
            "The following packages have been kept back:\n",
            "  libcudnn8 libcudnn8-dev libnccl-dev libnccl2\n",
            "The following packages will be upgraded:\n",
            "  lib32gcc-s1 lib32stdc++6 libatomic1 libcc1-0 libgcc-s1 libgfortran5 libgomp1\n",
            "  libitm1 liblsan0 libobjc4 libquadmath0 libtsan0 libubsan1\n",
            "13 upgraded, 0 newly installed, 0 to remove and 4 not upgraded.\n",
            "Need to get 5,632 kB of archives.\n",
            "After this operation, 783 kB of additional disk space will be used.\n",
            "Get:1 http://ppa.launchpad.net/ubuntu-toolchain-r/test/ubuntu focal/main amd64 libgcc-s1 amd64 11.1.0-1ubuntu1~20.04 [42.1 kB]\n",
            "Get:2 http://ppa.launchpad.net/ubuntu-toolchain-r/test/ubuntu focal/main amd64 lib32gcc-s1 amd64 11.1.0-1ubuntu1~20.04 [49.6 kB]\n",
            "Get:3 http://ppa.launchpad.net/ubuntu-toolchain-r/test/ubuntu focal/main amd64 lib32stdc++6 amd64 11.1.0-1ubuntu1~20.04 [612 kB]\n",
            "Get:4 http://ppa.launchpad.net/ubuntu-toolchain-r/test/ubuntu focal/main amd64 libatomic1 amd64 11.1.0-1ubuntu1~20.04 [9,232 B]\n",
            "Get:5 http://ppa.launchpad.net/ubuntu-toolchain-r/test/ubuntu focal/main amd64 libcc1-0 amd64 11.1.0-1ubuntu1~20.04 [48.7 kB]\n",
            "Get:6 http://ppa.launchpad.net/ubuntu-toolchain-r/test/ubuntu focal/main amd64 libquadmath0 amd64 11.1.0-1ubuntu1~20.04 [146 kB]\n",
            "Get:7 http://ppa.launchpad.net/ubuntu-toolchain-r/test/ubuntu focal/main amd64 libgfortran5 amd64 11.1.0-1ubuntu1~20.04 [717 kB]\n",
            "Get:8 http://ppa.launchpad.net/ubuntu-toolchain-r/test/ubuntu focal/main amd64 libgomp1 amd64 11.1.0-1ubuntu1~20.04 [107 kB]\n",
            "Get:9 http://ppa.launchpad.net/ubuntu-toolchain-r/test/ubuntu focal/main amd64 libitm1 amd64 11.1.0-1ubuntu1~20.04 [26.3 kB]\n",
            "Get:10 http://ppa.launchpad.net/ubuntu-toolchain-r/test/ubuntu focal/main amd64 liblsan0 amd64 11.1.0-1ubuntu1~20.04 [894 kB]\n",
            "Get:11 http://ppa.launchpad.net/ubuntu-toolchain-r/test/ubuntu focal/main amd64 libobjc4 amd64 11.1.0-1ubuntu1~20.04 [43.2 kB]\n",
            "Get:12 http://ppa.launchpad.net/ubuntu-toolchain-r/test/ubuntu focal/main amd64 libtsan0 amd64 11.1.0-1ubuntu1~20.04 [2,091 kB]\n",
            "Get:13 http://ppa.launchpad.net/ubuntu-toolchain-r/test/ubuntu focal/main amd64 libubsan1 amd64 11.1.0-1ubuntu1~20.04 [846 kB]\n",
            "Fetched 5,632 kB in 8s (746 kB/s)\n",
            "(Reading database ... 122546 files and directories currently installed.)\n",
            "Preparing to unpack .../libgcc-s1_11.1.0-1ubuntu1~20.04_amd64.deb ...\n",
            "Unpacking libgcc-s1:amd64 (11.1.0-1ubuntu1~20.04) over (10.3.0-1ubuntu1~20.04) ...\n",
            "Setting up libgcc-s1:amd64 (11.1.0-1ubuntu1~20.04) ...\n",
            "(Reading database ... 122546 files and directories currently installed.)\n",
            "Preparing to unpack .../00-lib32gcc-s1_11.1.0-1ubuntu1~20.04_amd64.deb ...\n",
            "Unpacking lib32gcc-s1 (11.1.0-1ubuntu1~20.04) over (10.3.0-1ubuntu1~20.04) ...\n",
            "Preparing to unpack .../01-lib32stdc++6_11.1.0-1ubuntu1~20.04_amd64.deb ...\n",
            "Unpacking lib32stdc++6 (11.1.0-1ubuntu1~20.04) over (10.3.0-1ubuntu1~20.04) ...\n",
            "Preparing to unpack .../02-libatomic1_11.1.0-1ubuntu1~20.04_amd64.deb ...\n",
            "Unpacking libatomic1:amd64 (11.1.0-1ubuntu1~20.04) over (10.3.0-1ubuntu1~20.04) ...\n",
            "Preparing to unpack .../03-libcc1-0_11.1.0-1ubuntu1~20.04_amd64.deb ...\n",
            "Unpacking libcc1-0:amd64 (11.1.0-1ubuntu1~20.04) over (10.3.0-1ubuntu1~20.04) ...\n",
            "Preparing to unpack .../04-libquadmath0_11.1.0-1ubuntu1~20.04_amd64.deb ...\n",
            "Unpacking libquadmath0:amd64 (11.1.0-1ubuntu1~20.04) over (10.3.0-1ubuntu1~20.04) ...\n",
            "Preparing to unpack .../05-libgfortran5_11.1.0-1ubuntu1~20.04_amd64.deb ...\n",
            "Unpacking libgfortran5:amd64 (11.1.0-1ubuntu1~20.04) over (10.3.0-1ubuntu1~20.04) ...\n",
            "Preparing to unpack .../06-libgomp1_11.1.0-1ubuntu1~20.04_amd64.deb ...\n",
            "Unpacking libgomp1:amd64 (11.1.0-1ubuntu1~20.04) over (10.3.0-1ubuntu1~20.04) ...\n",
            "Preparing to unpack .../07-libitm1_11.1.0-1ubuntu1~20.04_amd64.deb ...\n",
            "Unpacking libitm1:amd64 (11.1.0-1ubuntu1~20.04) over (10.3.0-1ubuntu1~20.04) ...\n",
            "Preparing to unpack .../08-liblsan0_11.1.0-1ubuntu1~20.04_amd64.deb ...\n",
            "Unpacking liblsan0:amd64 (11.1.0-1ubuntu1~20.04) over (10.3.0-1ubuntu1~20.04) ...\n",
            "Preparing to unpack .../09-libobjc4_11.1.0-1ubuntu1~20.04_amd64.deb ...\n",
            "Unpacking libobjc4:amd64 (11.1.0-1ubuntu1~20.04) over (10.3.0-1ubuntu1~20.04) ...\n",
            "Preparing to unpack .../10-libtsan0_11.1.0-1ubuntu1~20.04_amd64.deb ...\n",
            "Unpacking libtsan0:amd64 (11.1.0-1ubuntu1~20.04) over (10.3.0-1ubuntu1~20.04) ...\n",
            "Preparing to unpack .../11-libubsan1_11.1.0-1ubuntu1~20.04_amd64.deb ...\n",
            "Unpacking libubsan1:amd64 (11.1.0-1ubuntu1~20.04) over (10.3.0-1ubuntu1~20.04) ...\n",
            "Setting up libobjc4:amd64 (11.1.0-1ubuntu1~20.04) ...\n",
            "Setting up libgomp1:amd64 (11.1.0-1ubuntu1~20.04) ...\n",
            "Setting up lib32gcc-s1 (11.1.0-1ubuntu1~20.04) ...\n",
            "Setting up lib32stdc++6 (11.1.0-1ubuntu1~20.04) ...\n",
            "Setting up libquadmath0:amd64 (11.1.0-1ubuntu1~20.04) ...\n",
            "Setting up libatomic1:amd64 (11.1.0-1ubuntu1~20.04) ...\n",
            "Setting up libgfortran5:amd64 (11.1.0-1ubuntu1~20.04) ...\n",
            "Setting up libubsan1:amd64 (11.1.0-1ubuntu1~20.04) ...\n",
            "Setting up libcc1-0:amd64 (11.1.0-1ubuntu1~20.04) ...\n",
            "Setting up liblsan0:amd64 (11.1.0-1ubuntu1~20.04) ...\n",
            "Setting up libitm1:amd64 (11.1.0-1ubuntu1~20.04) ...\n",
            "Setting up libtsan0:amd64 (11.1.0-1ubuntu1~20.04) ...\n",
            "Processing triggers for libc-bin (2.31-0ubuntu9.9) ...\n",
            "Reading package lists... Done\n",
            "Building dependency tree       \n",
            "Reading state information... Done\n",
            "libstdc++6 is already the newest version (11.1.0-1ubuntu1~20.04).\n",
            "0 upgraded, 0 newly installed, 0 to remove and 4 not upgraded.\n",
            "Looking in indexes: https://pypi.org/simple, https://us-python.pkg.dev/colab-wheels/public/simple/\n",
            "Requirement already satisfied: kaleido in /usr/local/lib/python3.10/dist-packages (0.2.1)\n"
          ]
        }
      ]
    },
    {
      "cell_type": "markdown",
      "source": [
        "Make sure path is correct, ensure the project folder is saved under 'MyDrive'."
      ],
      "metadata": {
        "id": "KTycVN10fr-z"
      }
    },
    {
      "cell_type": "code",
      "source": [
        "import sys\n",
        "sys.path.append(\"/content/drive/MyDrive/EE_259_Project\")"
      ],
      "metadata": {
        "id": "JYgKJ6pBMbuL"
      },
      "execution_count": null,
      "outputs": []
    },
    {
      "cell_type": "markdown",
      "source": [
        "Import radarsimpy and test if successful by displaying version."
      ],
      "metadata": {
        "id": "DoFUqhUEf1Ti"
      }
    },
    {
      "cell_type": "code",
      "source": [
        "import radarsimpy\n",
        "radarsimpy.__version__"
      ],
      "metadata": {
        "colab": {
          "base_uri": "https://localhost:8080/",
          "height": 36
        },
        "id": "v7K-QTczMdJg",
        "outputId": "0232f9dd-3cde-48ad-f8f3-7de90858dbad"
      },
      "execution_count": null,
      "outputs": [
        {
          "output_type": "execute_result",
          "data": {
            "text/plain": [
              "'11.1.0'"
            ],
            "application/vnd.google.colaboratory.intrinsic+json": {
              "type": "string"
            }
          },
          "metadata": {},
          "execution_count": 5
        }
      ]
    },
    {
      "cell_type": "code",
      "source": [
        "import numpy as np\n",
        "from radarsimpy import Radar, Transmitter, Receiver\n",
        "from radarsimpy.simulator import simpy\n",
        "import plotly.graph_objs as go\n",
        "from IPython.display import Image\n",
        "from scipy import signal\n",
        "import radarsimpy.processing as proc\n",
        "from scipy.signal import find_peaks\n",
        "from numpy.lib.function_base import average"
      ],
      "metadata": {
        "id": "2sZA_w4gBuN0"
      },
      "execution_count": null,
      "outputs": []
    },
    {
      "cell_type": "markdown",
      "source": [
        "## Radar Simulation\n",
        "Based on the TDM FMCW MIMO [tutorial](https://radarsimx.com/2019/04/07/tdm-mimo-fmcw-radar/). In cell below, currently modifying parameters for TIDEP-01012 cascaded radar initial conditions. Setting up 12 TX antenna positions and characteristics (Thomas @ 6/1/2023 11:00 AM). Facing front of board, lower-left corner is origin. Characteristics referenced and measurements calculated using TIDEP-01012 [design guide](https://www.ti.com/lit/pdf/tiduen5)."
      ],
      "metadata": {
        "id": "09C3bm23e560"
      }
    },
    {
      "cell_type": "code",
      "source": [
        "import numpy as np\n",
        "from radarsimpy import Radar, Transmitter, Receiver\n",
        "\n",
        "# TIDEP-01012 design parameters, use center of frequency range for our frequency\n",
        "# tx parameters\n",
        "frequency = 77e9\n",
        "wavelength = 3e8 / frequency\n",
        "theta_fov = 140\n",
        "angular_res = 1.4\n",
        "N = int(theta_fov//angular_res)\n",
        "angle = np.linspace(-theta_fov/2, theta_fov/2, N)\n",
        "tx_power = 45\n",
        "pulses = 9\n",
        "num_tx_channels = 9\n",
        "num_rx_channels = 16\n",
        "cycle_t = 32e-6\n",
        "noise_level = 10\n",
        "pulse_bw = 256e6\n",
        "chirp_time = 17e-6\n",
        "rep_period = 288e-6\n",
        "rfgain = 20\n",
        "bbgain = 50\n",
        "res = 500\n",
        "\n",
        "# rx parameters\n",
        "samp_rate = 15e6\n",
        "# Beam pattern definition (no changes from tutorial)\n",
        "pattern = 20 * np.log10(np.cos(angle / 180 * np.pi) + 0.01) + 6\n",
        "\n",
        "# PCB corner locations\n",
        "PCB_corners = [[0, 0, 0],\n",
        "               [0, 0, 34 * wavelength],\n",
        "               [0, 40 * wavelength, 34 * wavelength],\n",
        "               [0, 40 * wavelength, 0]]"
      ],
      "metadata": {
        "id": "uO7TCvF7m-a3"
      },
      "execution_count": null,
      "outputs": []
    },
    {
      "cell_type": "markdown",
      "source": [
        "Build radar simulator with initial conditions."
      ],
      "metadata": {
        "id": "rQBD0WCP3ShQ"
      }
    },
    {
      "cell_type": "code",
      "source": [
        "#### 361 ADDITIONS ####\n",
        "# There are 9 transmit, 16 receive, errbody on x = 0 plane\n",
        "num_total_channels =  num_tx_channels + num_rx_channels\n",
        "num_paths = num_tx_channels*num_rx_channels\n",
        "allLocs = np.zeros((num_total_channels, 2))\n",
        "# allLocs[:,0] = np.random.rand(25)*40*wavelength\n",
        "# allLocs[:,1] = np.random.rand(25)*34*wavelength\n",
        "allLocs[0,:] = np.array([30.5*wavelength, 11*wavelength])\n",
        "allLocs[9,:] = np.array([7*wavelength, 30*wavelength])\n",
        "\n",
        "# Define antenna locations for initial conditions according to TIDEP-01012\n",
        "for i in range(1, num_tx_channels):\n",
        "    allLocs[i,:] = np.array([allLocs[i-1,0] - 2*wavelength, allLocs[0,1]])\n",
        "for i in range(num_tx_channels + 1, num_total_channels):\n",
        "    if i == num_tx_channels + 6:\n",
        "        allLocs[i,:] = np.array([allLocs[i-1,0] + 4*wavelength, allLocs[0,1]])\n",
        "    elif i == num_tx_channels + 9:\n",
        "        allLocs[i,:] = np.array([allLocs[i-1,0] + 16*wavelength, allLocs[0,1]])\n",
        "    else:\n",
        "        allLocs[i,:] = np.array([allLocs[i-1,0] + 0.5*wavelength, allLocs[0,1]])\n",
        "\n",
        "# Build Transmitter\n",
        "tx_channels = []\n",
        "for i in range(num_tx_channels):\n",
        "  tx_channels.append(dict(location=(0, allLocs[i,0], allLocs[i,1]),\n",
        "                    azimuth_angle=angle,\n",
        "                    azimuth_pattern=pattern,\n",
        "                    elevation_angle=angle,\n",
        "                    elevation_pattern=pattern,\n",
        "                    delay=i*cycle_t))\n",
        "\n",
        "tx = Transmitter(f=[frequency, frequency+pulse_bw],\n",
        "                 t=chirp_time,\n",
        "                 tx_power=tx_power,\n",
        "                 prp=rep_period,\n",
        "                 pulses=pulses,\n",
        "                 channels=tx_channels)\n",
        "\n",
        "# Build Receiver\n",
        "rx_channels = []\n",
        "for i in range(num_tx_channels,num_total_channels):\n",
        "  rx_channels.append(dict(location=(0, allLocs[i,0], allLocs[i,1]),\n",
        "                    azimuth_angle=angle,\n",
        "                    azimuth_pattern=pattern,\n",
        "                    elevation_angle=angle,\n",
        "                    elevation_pattern=pattern))\n",
        "\n",
        "rx = Receiver(fs=samp_rate,\n",
        "              noise_figure=noise_level,\n",
        "              rf_gain=rfgain,\n",
        "              baseband_gain=bbgain,\n",
        "              load_resistor=res,\n",
        "              channels=rx_channels)\n",
        "\n",
        "radar = Radar(transmitter=tx, receiver=rx)"
      ],
      "metadata": {
        "id": "KpOZHiOA3L5s"
      },
      "execution_count": null,
      "outputs": []
    },
    {
      "cell_type": "markdown",
      "source": [
        "Build a target list."
      ],
      "metadata": {
        "id": "DhAlAvXa3bnX"
      }
    },
    {
      "cell_type": "code",
      "source": [
        "target_1 = dict(location=(160, 0, 0), speed=(0, 0, 0), rcs=25, phase=0)\n",
        "target_2 = dict(location=(80, -80, 0), speed=(0, 0, 0), rcs=20, phase=0)\n",
        "target_3 = dict(location=(30, 20, 0), speed=(0, 0, 0), rcs=8, phase=0)\n",
        "\n",
        "targets = [target_1, target_2, target_3]"
      ],
      "metadata": {
        "id": "CFXT43oqM9hN"
      },
      "execution_count": null,
      "outputs": []
    },
    {
      "cell_type": "markdown",
      "source": [
        "Initialize RadarSimPy Pythong engine. If this cell is not running, make sure the Setup section ran, then restart runtime, re-import radarsimpy and try running again."
      ],
      "metadata": {
        "id": "5sOinOc3hF3I"
      }
    },
    {
      "cell_type": "code",
      "source": [
        "# Python engine\n",
        "from radarsimpy.simulator import simpy\n",
        "\n",
        "data = simpy(radar, targets)\n",
        "timestamp = data['timestamp']\n",
        "baseband = data['baseband']"
      ],
      "metadata": {
        "id": "12wBMQ_LNALV"
      },
      "execution_count": null,
      "outputs": []
    },
    {
      "cell_type": "code",
      "source": [
        "from scipy import signal\n",
        "import radarsimpy.processing as proc\n",
        "\n",
        "# DANA'S CHANGES WITH CFAR\n",
        "range_window = signal.chebwin(radar.samples_per_pulse, at=60) # is 60 correct? example says 80?\n",
        "doppler_window = signal.chebwin(tx.pulses, at=60) # is 60 correct?\n",
        "range_dopp_prof = proc.range_doppler_fft(baseband, range_window,doppler_window)\n",
        "\n",
        "P = range_dopp_prof.shape[0] # number of virtual elements\n",
        "doppler_indices = range_dopp_prof.shape[1] # number of doppler indices (M)\n",
        "range_indices = range_dopp_prof.shape[2] # number of range indices (N)\n",
        "\n",
        "# initialize empty CFAR cube, same size as range-doppler processed cube\n",
        "cfar_cube = np.empty((P,doppler_indices,range_indices))\n",
        "\n",
        "# number of guard and training cells for CFAR\n",
        "TARGET_GUARD = 50\n",
        "TARGET_TRAINING = 100\n",
        "DOA_GUARD = 30\n",
        "DOA_TRAINING = 50\n",
        "\n",
        "# TDM-MIMO phase compensation from Radar II slide 43\n",
        "comp_range_dopp_prof = np.empty((P,doppler_indices,range_indices),dtype=complex)\n",
        "for p in range(P):\n",
        "  # compute tx element corresponding to this virtual array element\n",
        "  k = p // num_rx_channels\n",
        "  for l in range(doppler_indices):\n",
        "    # doppler frequency?\n",
        "    fdl = -l/(doppler_indices*num_tx_channels*chirp_time)\n",
        "    for rn in range(range_indices):\n",
        "      # multiply IF by exp(j*2*pi*fdl*k*T)\n",
        "      comp_range_dopp_prof[p,l,rn] = range_dopp_prof[p,l,rn]*np.exp(1j*2*np.pi*fdl*k*chirp_time) # k, not k-1 bc of 0 indexing\n",
        "\n",
        "# empty list of tuples of target indices\n",
        "target_inds = []\n",
        "# populate cfar cube by iterating over antennas, performing 2D cfar on that particular MxN doppler-range slice\n",
        "for i in range(P):\n",
        "  cfar_cube[i,:,:] = proc.cfar_ca_2d(range_dopp_prof[i,:,:],TARGET_GUARD,TARGET_TRAINING)\n",
        "\n",
        "# initialize empty array to fill with rx signal about targets (like s vector from hw2q3)\n",
        "s_vec = np.empty(P,dtype='complex128')\n",
        "# iterate over every range and doppler index pair, get antenna element column\n",
        "# compare cfar threshold column to corresponding IF data column to ensure that for given doppler-range indices, every element in the antenna column is greater than threshold\n",
        "for di in range(doppler_indices):\n",
        "  for ri in range(range_indices):\n",
        "    # compare IF signal to CFAR threshold\n",
        "    true_vec = range_dopp_prof[:,di,ri]>cfar_cube[:,di,ri]\n",
        "    # if every IF cell > corresponding CFAR cell, add that range-doppler index to target list, add that IF signal to s vector\n",
        "    if np.all(true_vec):\n",
        "      target_inds.append((di,ri))\n",
        "      s_vec += np.array(comp_range_dopp_prof[:,di,ri])\n",
        "\n",
        "print(\"cfar 2d targets: \"+str(target_inds))\n",
        "\n",
        "\n",
        "# create theta (azimuth) and phi (elevation) search grids according to TIDEP angular resolutions\n",
        "doa_fov = 140*np.pi/180\n",
        "azimuth_res = 1.4#1.4 # degrees\n",
        "elevation_res = 18 # degrees\n",
        "# number of points is hard coded right now, since elevation angular resolution is too small\n",
        "num_azimuth = 600#int(np.floor(140/azimuth_res))\n",
        "num_elevation = 600#int(np.floor(140/elevation_res))\n",
        "azimuth_grid = np.linspace(-doa_fov/2,doa_fov/2,num_azimuth) # theta\n",
        "elevation_grid = np.linspace(-doa_fov/2,doa_fov/2,num_elevation) # phi\n",
        "\n",
        "# initialize empty A matrix, like hw2q3\n",
        "A = np.zeros((P,num_azimuth*num_elevation),dtype=complex)\n",
        "\n",
        "# get positions of transmitters and receivers\n",
        "# first 9 are tx, second 16 are rx\n",
        "real_tx_pos = allLocs[:num_tx_channels]\n",
        "real_rx_pos = allLocs[num_tx_channels:]\n",
        "\n",
        "# initialize empty array to store virtual array element positions\n",
        "virtual_array_elem_pos = np.empty((P,2))\n",
        "idx = 0\n",
        "# compute virtual array element positions\n",
        "for tx_elem in range(num_tx_channels):\n",
        "  for rx_elem in range(num_rx_channels):\n",
        "    virtual_array_elem_pos[idx,:] = real_tx_pos[tx_elem]+real_rx_pos[rx_elem] # not\n",
        "    idx += 1\n",
        "\n",
        "# populate A matrix\n",
        "# iterate over azimuth and elevation search grids and form columns of A according to Radar Part II, slides 33-36\n",
        "idx = 0\n",
        "for i in range(len(azimuth_grid)):\n",
        "  for j in range(len(elevation_grid)):\n",
        "      a_curr = np.array(np.exp(-2*1j*np.pi/wavelength*np.sin(azimuth_grid[i])*np.sin(elevation_grid[j])*np.array(virtual_array_elem_pos[:,0]))*np.exp(-2*1j*np.pi/wavelength*np.cos(elevation_grid[j])*np.array(virtual_array_elem_pos[:,1])))\n",
        "      A[:,idx] = a_curr\n",
        "      idx +=1\n",
        "\n",
        "# measure closeness of s to different steering vectors by the norm of its projection onto the ai’s\n",
        "d_multi = np.absolute(np.matmul(np.conjugate(np.transpose(A)),s_vec))\n"
      ],
      "metadata": {
        "colab": {
          "base_uri": "https://localhost:8080/"
        },
        "id": "Hz0cvQvlhV-k",
        "outputId": "4d62fa97-904f-4b83-ea79-06fa28e9b42e"
      },
      "execution_count": null,
      "outputs": [
        {
          "output_type": "stream",
          "name": "stdout",
          "text": [
            "cfar 2d targets: [(1, 17), (1, 19), (8, 18)]\n"
          ]
        }
      ]
    },
    {
      "cell_type": "code",
      "source": [
        "# reshape d_multi into a num_theta x num_phi array in order to perform 2D CFAR\n",
        "d_multi = np.reshape(d_multi,(num_azimuth,num_elevation))\n",
        "# get corresponding threshold\n",
        "doa_cfar = proc.cfar_ca_2d(d_multi,DOA_GUARD,DOA_TRAINING)\n",
        "# find where data is greater than threshold\n",
        "d_peaks = np.where(d_multi>doa_cfar)\n",
        "#print(\"2d CFAR DOA peaks: \"+str(d_peaks))\n",
        "theta_hat= azimuth_grid[d_peaks[0]]*180/np.pi\n",
        "print(\"theta_hat (degrees): \"+str(theta_hat))\n",
        "phi_hat= elevation_grid[d_peaks[1]]*180/np.pi\n",
        "print(\"phi_hat (degrees): \"+str(phi_hat))"
      ],
      "metadata": {
        "id": "Neqe208E1zO-",
        "colab": {
          "base_uri": "https://localhost:8080/"
        },
        "outputId": "3ca35d3b-2ca5-4b1e-bc13-02caa349e794"
      },
      "execution_count": null,
      "outputs": [
        {
          "output_type": "stream",
          "name": "stdout",
          "text": [
            "theta_hat (degrees): [-70. -70. -70. ...  70.  70.  70.]\n",
            "phi_hat (degrees): [-30.26711185 -30.03338898  -0.35058431 ...   0.35058431  30.03338898\n",
            "  30.26711185]\n"
          ]
        }
      ]
    },
    {
      "cell_type": "code",
      "source": [
        "# PLOT 2D theta vs phi map\n",
        "import matplotlib\n",
        "import matplotlib.pyplot as plt\n",
        "from matplotlib import cm\n",
        "from matplotlib.ticker import LinearLocator\n",
        "d_multi = np.reshape(d_multi,(num_azimuth,num_elevation))\n",
        "fig, ax = plt.subplots(subplot_kw={\"projection\": \"3d\"})\n",
        "Az, El = np.meshgrid(azimuth_grid*180/np.pi, elevation_grid*180/np.pi)\n",
        "surf = ax.plot_surface(Az, El, 20*np.log10(np.transpose(d_multi)), cmap=cm.coolwarm,\n",
        "linewidth=0, antialiased=False)\n",
        "plt.title('Azimuth vs Elevation vs Power')\n",
        "ax.set_xlabel('Azimuth (degree)')\n",
        "ax.set_ylabel('Elevation (degree)')\n",
        "ax.set_zlabel('Power (dB)')\n",
        "plt.show()\n"
      ],
      "metadata": {
        "colab": {
          "base_uri": "https://localhost:8080/",
          "height": 433
        },
        "id": "YLHvoMN3NxPI",
        "outputId": "a8b3f466-3a7b-488c-e011-07b7ace62ea3"
      },
      "execution_count": null,
      "outputs": [
        {
          "output_type": "display_data",
          "data": {
            "text/plain": [
              "<Figure size 640x480 with 1 Axes>"
            ],
            "image/png": "[encoded data removed]"
          },
          "metadata": {}
        }
      ]
    }
  ]
}